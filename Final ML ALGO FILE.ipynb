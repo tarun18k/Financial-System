{
 "cells": [
  {
   "cell_type": "markdown",
   "metadata": {},
   "source": [
    "# Research Project Daily"
   ]
  },
  {
   "cell_type": "markdown",
   "metadata": {},
   "source": [
    "# Import Libraries"
   ]
  },
  {
   "cell_type": "code",
   "execution_count": 25,
   "metadata": {
    "scrolled": true
   },
   "outputs": [],
   "source": [
    "import pandas as pd\n",
    "import numpy as np\n",
    "import talib\n",
    "import matplotlib.pyplot as plt\n",
    "%matplotlib inline\n",
    "import datetime\n",
    "from sklearn import linear_model\n",
    "from sklearn.metrics import accuracy_score,log_loss,precision_score,roc_auc_score,confusion_matrix\n",
    "from sklearn.preprocessing import MinMaxScaler,StandardScaler\n",
    "from sklearn.ensemble import RandomForestClassifier\n",
    "from sklearn.model_selection import train_test_split\n",
    "from sklearn import svm"
   ]
  },
  {
   "cell_type": "markdown",
   "metadata": {},
   "source": [
    "# Import and Downlad Data"
   ]
  },
  {
   "cell_type": "code",
   "execution_count": 46,
   "metadata": {
    "scrolled": true
   },
   "outputs": [
    {
     "data": {
      "text/html": [
       "<div>\n",
       "<style scoped>\n",
       "    .dataframe tbody tr th:only-of-type {\n",
       "        vertical-align: middle;\n",
       "    }\n",
       "\n",
       "    .dataframe tbody tr th {\n",
       "        vertical-align: top;\n",
       "    }\n",
       "\n",
       "    .dataframe thead th {\n",
       "        text-align: right;\n",
       "    }\n",
       "</style>\n",
       "<table border=\"1\" class=\"dataframe\">\n",
       "  <thead>\n",
       "    <tr style=\"text-align: right;\">\n",
       "      <th></th>\n",
       "      <th>Open</th>\n",
       "      <th>High</th>\n",
       "      <th>Low</th>\n",
       "      <th>Price</th>\n",
       "      <th>Volume</th>\n",
       "    </tr>\n",
       "    <tr>\n",
       "      <th>Date</th>\n",
       "      <th></th>\n",
       "      <th></th>\n",
       "      <th></th>\n",
       "      <th></th>\n",
       "      <th></th>\n",
       "    </tr>\n",
       "  </thead>\n",
       "  <tbody>\n",
       "    <tr>\n",
       "      <th>2018-10-01</th>\n",
       "      <td>332.200012</td>\n",
       "      <td>337.000000</td>\n",
       "      <td>330.000000</td>\n",
       "      <td>334.799988</td>\n",
       "      <td>4309900</td>\n",
       "    </tr>\n",
       "    <tr>\n",
       "      <th>2018-11-01</th>\n",
       "      <td>335.239990</td>\n",
       "      <td>344.809998</td>\n",
       "      <td>333.260010</td>\n",
       "      <td>337.950012</td>\n",
       "      <td>6645500</td>\n",
       "    </tr>\n",
       "    <tr>\n",
       "      <th>2018-12-01</th>\n",
       "      <td>338.630005</td>\n",
       "      <td>340.410004</td>\n",
       "      <td>333.670013</td>\n",
       "      <td>336.220001</td>\n",
       "      <td>4825100</td>\n",
       "    </tr>\n",
       "    <tr>\n",
       "      <th>2018-01-16</th>\n",
       "      <td>337.540009</td>\n",
       "      <td>345.000000</td>\n",
       "      <td>334.799988</td>\n",
       "      <td>340.059998</td>\n",
       "      <td>6474300</td>\n",
       "    </tr>\n",
       "    <tr>\n",
       "      <th>2018-01-17</th>\n",
       "      <td>340.470001</td>\n",
       "      <td>349.000000</td>\n",
       "      <td>339.750000</td>\n",
       "      <td>347.160004</td>\n",
       "      <td>7103500</td>\n",
       "    </tr>\n",
       "    <tr>\n",
       "      <th>...</th>\n",
       "      <td>...</td>\n",
       "      <td>...</td>\n",
       "      <td>...</td>\n",
       "      <td>...</td>\n",
       "      <td>...</td>\n",
       "    </tr>\n",
       "    <tr>\n",
       "      <th>2019-02-12</th>\n",
       "      <td>329.399994</td>\n",
       "      <td>336.380005</td>\n",
       "      <td>328.690002</td>\n",
       "      <td>334.869995</td>\n",
       "      <td>6074500</td>\n",
       "    </tr>\n",
       "    <tr>\n",
       "      <th>2019-03-12</th>\n",
       "      <td>332.619995</td>\n",
       "      <td>337.910004</td>\n",
       "      <td>332.190002</td>\n",
       "      <td>336.200012</td>\n",
       "      <td>6573700</td>\n",
       "    </tr>\n",
       "    <tr>\n",
       "      <th>2019-04-12</th>\n",
       "      <td>337.750000</td>\n",
       "      <td>337.859985</td>\n",
       "      <td>332.850006</td>\n",
       "      <td>333.029999</td>\n",
       "      <td>5533000</td>\n",
       "    </tr>\n",
       "    <tr>\n",
       "      <th>2019-05-12</th>\n",
       "      <td>332.829987</td>\n",
       "      <td>334.420013</td>\n",
       "      <td>327.250000</td>\n",
       "      <td>330.369995</td>\n",
       "      <td>3724600</td>\n",
       "    </tr>\n",
       "    <tr>\n",
       "      <th>2019-06-12</th>\n",
       "      <td>335.000000</td>\n",
       "      <td>338.859985</td>\n",
       "      <td>334.769989</td>\n",
       "      <td>335.890015</td>\n",
       "      <td>7612400</td>\n",
       "    </tr>\n",
       "  </tbody>\n",
       "</table>\n",
       "<p>481 rows × 5 columns</p>\n",
       "</div>"
      ],
      "text/plain": [
       "                  Open        High         Low       Price   Volume\n",
       "Date                                                               \n",
       "2018-10-01  332.200012  337.000000  330.000000  334.799988  4309900\n",
       "2018-11-01  335.239990  344.809998  333.260010  337.950012  6645500\n",
       "2018-12-01  338.630005  340.410004  333.670013  336.220001  4825100\n",
       "2018-01-16  337.540009  345.000000  334.799988  340.059998  6474300\n",
       "2018-01-17  340.470001  349.000000  339.750000  347.160004  7103500\n",
       "...                ...         ...         ...         ...      ...\n",
       "2019-02-12  329.399994  336.380005  328.690002  334.869995  6074500\n",
       "2019-03-12  332.619995  337.910004  332.190002  336.200012  6573700\n",
       "2019-04-12  337.750000  337.859985  332.850006  333.029999  5533000\n",
       "2019-05-12  332.829987  334.420013  327.250000  330.369995  3724600\n",
       "2019-06-12  335.000000  338.859985  334.769989  335.890015  7612400\n",
       "\n",
       "[481 rows x 5 columns]"
      ]
     },
     "execution_count": 46,
     "metadata": {},
     "output_type": "execute_result"
    },
    {
     "data": {
      "image/png": "[encoded data removed]",
      "text/plain": [
       "<Figure size 432x288 with 1 Axes>"
      ]
     },
     "metadata": {
      "needs_background": "light"
     },
     "output_type": "display_data"
    }
   ],
   "source": [
    "#ImportData\n",
    "df = pd.read_csv(\"tsla-eod-prices.csv\", index_col=0, parse_dates=True)\n",
    "df = df[['Open','High','Low','Price','Volume']]\n",
    "df1 = df.copy()\n",
    "\n",
    "stock_high = df['High']\n",
    "stock_low = df['Low']\n",
    "stock_open = df['Open']\n",
    "stock_close = df['Price']\n",
    "stock_volume = df['Volume']\n",
    "\n",
    "df['Price'].plot()\n",
    "df"
   ]
  },
  {
   "cell_type": "markdown",
   "metadata": {},
   "source": [
    "# Oscillators and Trend Following Indicators"
   ]
  },
  {
   "cell_type": "markdown",
   "metadata": {},
   "source": [
    "# 1. MACD and MACD HISTOGRAM"
   ]
  },
  {
   "cell_type": "code",
   "execution_count": 27,
   "metadata": {},
   "outputs": [],
   "source": [
    "#Compute MACD and MACD Histogram\n",
    "macd, macdsignal, macdhist = talib.MACD(stock_close, fastperiod=12, slowperiod=26, signalperiod=9)\n",
    "\n",
    "dict = {'MACD': macd, 'MSIG': macdsignal}\n",
    "macdata = []\n",
    "macdata = pd.DataFrame(data=dict)\n",
    "macdata.dropna(inplace=True)\n",
    "\n",
    "macdata['MACD_Signal1'] = macdata.apply(lambda x : 1 if x['MACD'] > x['MSIG'] else 0, axis = 1)\n",
    "\n",
    "n_days = len(macdata['MACD'])\n",
    "Signal = macdata['MACD_Signal1']\n",
    "psy = []\n",
    "\n",
    "for d in range(0, n_days):\n",
    "    \n",
    "    if Signal[d] == 1:\n",
    "        psycology = 1\n",
    "        psy.append(psycology)\n",
    "    \n",
    "    elif Signal[d] == 0:\n",
    "        psycology = 0\n",
    "        psy.append(psycology)\n",
    "        \n",
    "macdata['MACD_Signal'] = psy\n",
    "\n",
    "del macdata['MACD_Signal1']\n",
    "\n",
    "dict = {'MHIST': macdhist, 'PrevMHIST': macdhist.shift(1)}\n",
    "machdata = []\n",
    "machdata = pd.DataFrame(data=dict)\n",
    "machdata.dropna(inplace=True)\n",
    "\n",
    "machdata['MHIST_Signal1'] = machdata.apply(lambda x : 1 if x['MHIST'] > x['PrevMHIST'] else 0, axis = 1)\n",
    "\n",
    "n_days = len(machdata['MHIST'])\n",
    "Signal = machdata['MHIST_Signal1']\n",
    "psy = []\n",
    "\n",
    "for d in range(0, n_days):\n",
    "    \n",
    "    if Signal[d] == 1:\n",
    "        psycology = 1\n",
    "        psy.append(psycology)\n",
    "    \n",
    "    elif Signal[d] == 0:\n",
    "        psycology = 0\n",
    "        psy.append(psycology)\n",
    "        \n",
    "machdata['MHIST_Signal'] = psy\n",
    "\n",
    "del machdata['MHIST_Signal1']\n"
   ]
  },
  {
   "cell_type": "markdown",
   "metadata": {},
   "source": [
    "# 2. Average Directional Index (ADX)"
   ]
  },
  {
   "cell_type": "code",
   "execution_count": 28,
   "metadata": {},
   "outputs": [],
   "source": [
    "#Compute Average Directional Index (ADX)\n",
    "adx = talib.ADX(stock_high, stock_low, stock_close, timeperiod=14)\n",
    "\n",
    "dict = {'Close': stock_close, 'ADX': adx }\n",
    "\n",
    "adxdata = []\n",
    "adxdata = pd.DataFrame(data=dict)\n",
    "adxdata.dropna(inplace=True)\n",
    "\n",
    "adxdata['adx1'] = adxdata.apply(lambda x : 1 if x['ADX'] > 25 else 0, axis=1)\n",
    "adxdata['adx2'] = adxdata.apply(lambda x : -1 if x['ADX'] < 20 else 0, axis=1)\n",
    "\n",
    "adxdata['Signw'] = adxdata.apply(lambda x : x['adx1'] + x['adx2'] , axis=1)\n",
    "\n",
    "n_days = len(adxdata['ADX'])\n",
    "Signal = adxdata['Signw']\n",
    "psy = []\n",
    "\n",
    "for d in range(0, n_days):\n",
    "    if Signal[d] == 1:\n",
    "        psycology = 1\n",
    "        psy.append(psycology)\n",
    "    \n",
    "    elif Signal[d] == -1:\n",
    "        psycology = 0\n",
    "        psy.append(psycology)\n",
    "    \n",
    "    elif Signal[d] == 0:\n",
    "        psycology = 0\n",
    "        psy.append(psycology)\n",
    "        \n",
    "        \n",
    "adxdata['Trend'] = psy\n",
    "\n",
    "del adxdata['Signw']\n",
    "del adxdata['adx1']\n",
    "del adxdata['adx2']\n"
   ]
  },
  {
   "cell_type": "markdown",
   "metadata": {},
   "source": [
    "# 3. Relative Strength Index (RSI)"
   ]
  },
  {
   "cell_type": "code",
   "execution_count": 29,
   "metadata": {},
   "outputs": [],
   "source": [
    "#Compute Relatie Strength Index (RSI)\n",
    "rsi = talib.RSI(stock_close, timeperiod=14)\n",
    "\n",
    "dict = {'Close': stock_close, 'RSI': rsi }\n",
    "\n",
    "rsidata = []\n",
    "rsidata = pd.DataFrame(data=dict)\n",
    "rsidata.dropna(inplace=True)\n",
    "\n",
    "rsidata['rsi1'] = rsidata.apply(lambda x : 1 if x['RSI'] < 30 else 0, axis=1)\n",
    "rsidata['rsi2'] = rsidata.apply(lambda x : -1 if x['RSI'] > 70 else 0, axis=1)\n",
    "rsidata['Sign1'] = rsidata.apply(lambda x : x['rsi1'] + x['rsi2'], axis=1)\n",
    "\n",
    "n_days = len(rsidata['RSI'])\n",
    "Signal = rsidata['Sign1']\n",
    "psy = []\n",
    "\n",
    "for d in range(0, n_days):\n",
    "    if Signal[d] == 1:\n",
    "        psycology = 1\n",
    "        psy.append(psycology)\n",
    "    \n",
    "    elif Signal[d] == -1:\n",
    "        psycology = 0\n",
    "        psy.append(psycology)\n",
    "    \n",
    "    elif Signal[d] == 0:\n",
    "        psycology = 0\n",
    "        psy.append(psycology)\n",
    "        \n",
    "rsidata['Psycology'] = psy\n",
    "\n",
    "del rsidata['Sign1']\n",
    "del rsidata['rsi1']\n",
    "del rsidata['rsi2']\n"
   ]
  },
  {
   "cell_type": "markdown",
   "metadata": {},
   "source": [
    "# Volatility Indicators"
   ]
  },
  {
   "cell_type": "markdown",
   "metadata": {},
   "source": [
    "# 4. Bollinger Bands"
   ]
  },
  {
   "cell_type": "code",
   "execution_count": 30,
   "metadata": {},
   "outputs": [],
   "source": [
    "#Compute Bollinger Bands\n",
    "upper, middle, lower = talib.BBANDS(stock_close, timeperiod=26)\n",
    "\n",
    "dict = {'Close': stock_close, 'Middle': middle, 'Upper': upper, 'Lower': lower }\n",
    "\n",
    "bbdata = []\n",
    "bbdata = pd.DataFrame(data=dict)\n",
    "bbdata.dropna(inplace=True)\n",
    "\n",
    "#Generate the Long and Short Signals\n",
    "n_days = len(bbdata['Middle'])\n",
    "cash = 1\n",
    "stock = 0\n",
    "\n",
    "position = []\n",
    "\n",
    "spread = stock_close\n",
    "ma = middle\n",
    "upper_band = upper\n",
    "lower_band = lower\n",
    "\n",
    "for d in range(0, n_days):\n",
    "    \n",
    "    # Long if spread < lower band & if not bought yet\n",
    "    if spread[d] < lower_band[d] and cash == 1:\n",
    "        signal = 1\n",
    "        cash = 0\n",
    "        stock = 1\n",
    "        position.append(signal)\n",
    "        \n",
    "        \n",
    "    # Take Profit if spread > moving average & if already bought\n",
    "    elif spread[d] > ma[d] and stock == 1:\n",
    "        signal = 3\n",
    "        cash = 1\n",
    "        stock = 0\n",
    "        position.append(signal)\n",
    "        \n",
    "    # Short if spread > upper band and no current position\n",
    "    elif spread[d] > upper_band[d] and cash == 1:\n",
    "        signal = -1\n",
    "        cash = 0\n",
    "        stock = -1\n",
    "        position.append(signal)\n",
    "        \n",
    "\n",
    "    # Take Profit if spread < moving average & if already short\n",
    "    elif spread[d] < ma[d] and stock == -1:\n",
    "        signal = 3\n",
    "        cash = 1\n",
    "        stock = 0\n",
    "        position.append(signal)\n",
    "    \n",
    "    else:\n",
    "        signal = 0\n",
    "        position.append(signal)\n",
    "        \n",
    "bbdata['Position1'] = position\n",
    "bbdata['Position1'] = bbdata['Position1'].replace(to_replace=0, method= 'ffill')\n",
    "bbdata['Position1'] = bbdata['Position1'].replace(3,0)\n",
    "bbdata['Position'] = bbdata['Position1']\n",
    "\n",
    "del bbdata['Position1']\n",
    "\n",
    "t_days = len(bbdata['Middle'])\n",
    "Signal = bbdata['Position']\n",
    "pos = []\n",
    "\n",
    "for d in range(0, t_days):\n",
    "    if Signal[d] == 0:\n",
    "        strategy = 0\n",
    "        pos.append(strategy)\n",
    "    \n",
    "    elif Signal[d] == 1:\n",
    "        strategy = 1\n",
    "        pos.append(strategy)\n",
    "    \n",
    "    elif Signal[d] == -1:\n",
    "        strategy = 0\n",
    "        pos.append(strategy)\n",
    "\n",
    "bbdata['Strategy'] = pos\n"
   ]
  },
  {
   "cell_type": "markdown",
   "metadata": {},
   "source": [
    "# Volume Indicators"
   ]
  },
  {
   "cell_type": "markdown",
   "metadata": {},
   "source": [
    "# 5. Force Index"
   ]
  },
  {
   "cell_type": "code",
   "execution_count": 31,
   "metadata": {},
   "outputs": [],
   "source": [
    "#Force Index Function\n",
    "def ForceIndex(Volume, Close):\n",
    "    dict = {'Volume': Volume, 'Close': Close}\n",
    "    df = pd.DataFrame(data=dict)\n",
    "    df.dropna(inplace=True)\n",
    "    \n",
    "    FI = df['Volume']*(df['Close'] - df['Close'].shift(1))\n",
    "    \n",
    "    return FI\n",
    "\n",
    "#Compute Force Index\n",
    "fi = ForceIndex(stock_volume,stock_close)\n",
    "\n",
    "efi = talib.EMA(fi, timeperiod=13)\n",
    "\n",
    "dict = {'Close': stock_close, 'EFI': efi }\n",
    "\n",
    "efidata = []\n",
    "efidata = pd.DataFrame(data=dict)\n",
    "efidata.dropna(inplace=True)\n",
    "\n",
    "\n",
    "efidata['efi_sign'] = efidata.apply(lambda x : 1 if x['EFI'] > 0 else -1, axis=1)\n",
    "\n",
    "n_days = len(efidata['EFI'])\n",
    "Signal = efidata['efi_sign']\n",
    "psy = []\n",
    "\n",
    "for d in range(0, n_days):\n",
    "    if Signal[d] == 1:\n",
    "        psycology = 1\n",
    "        psy.append(psycology)\n",
    "    \n",
    "    elif Signal[d] == -1:\n",
    "        psycology = 0\n",
    "        psy.append(psycology)\n",
    "      \n",
    "efidata['Psycology'] = psy\n",
    "\n",
    "del efidata['efi_sign']\n"
   ]
  },
  {
   "cell_type": "markdown",
   "metadata": {},
   "source": [
    "# Classify Next Weeks Stock Move"
   ]
  },
  {
   "cell_type": "code",
   "execution_count": 32,
   "metadata": {},
   "outputs": [],
   "source": [
    "#Compute Weekly Stock Move and Iddentify if > 0.003\n",
    "stock_move = stock_close.shift(-5)\n",
    "\n",
    "dict = {'Close': stock_close, 'Move': stock_move}\n",
    "\n",
    "sdmdata = []\n",
    "sdmdata = pd.DataFrame(data=dict)\n",
    "sdmdata.dropna(inplace=True)\n",
    "\n",
    "sdmdata['sign'] = sdmdata.apply(lambda x : 1 if np.log(x['Move']/x['Close']) > 0 else -1, axis=1)\n",
    "\n",
    "\n",
    "n_days = len(sdmdata['Move'])\n",
    "Signal = sdmdata['sign']\n",
    "psy = []\n",
    "\n",
    "for d in range(0, n_days):\n",
    "    if Signal[d] == 1:\n",
    "        psycology = 1\n",
    "        psy.append(psycology)\n",
    "    \n",
    "    elif Signal[d] == -1:\n",
    "        psycology = 0\n",
    "        psy.append(psycology)\n",
    "    \n",
    "      \n",
    "sdmdata['Next Week Move'] = psy\n",
    "\n",
    "del sdmdata['sign']\n"
   ]
  },
  {
   "cell_type": "markdown",
   "metadata": {},
   "source": [
    "# Consolidate Technical Indicators and Next Day's Stock Move"
   ]
  },
  {
   "cell_type": "code",
   "execution_count": 33,
   "metadata": {},
   "outputs": [],
   "source": [
    "#Data\n",
    "Close = pd.DataFrame({'Close': stock_close})\n",
    "NWM = pd.DataFrame({'Next Week Move': sdmdata['Next Week Move']})\n",
    "MACD = pd.DataFrame({'MACD': macdata['MACD_Signal']})\n",
    "ADX = pd.DataFrame({'ADX': adxdata['Trend']})\n",
    "MHIST = pd.DataFrame({'MHIST': machdata['MHIST_Signal']})\n",
    "RSI = pd.DataFrame({'RSI': rsidata['Psycology']})\n",
    "BB = pd.DataFrame({'BB': bbdata['Strategy']})\n",
    "FI = pd.DataFrame({'FI': efidata['Psycology']})\n",
    "\n",
    "#Merge\n",
    "merge1 = pd.merge(Close, NWM, left_index=True, right_index=True, how='outer')\n",
    "merge2 = pd.merge(merge1, MACD, left_index=True, right_index=True, how='outer')\n",
    "merge3 = pd.merge(merge2, ADX, left_index=True, right_index=True, how='outer')\n",
    "merge4 = pd.merge(merge3, MHIST, left_index=True, right_index=True, how='outer')\n",
    "merge5 = pd.merge(merge4, RSI, left_index=True, right_index=True, how='outer')\n",
    "merge6 = pd.merge(merge5, BB, left_index=True, right_index=True, how='outer')\n",
    "df_daily = pd.merge(merge6, FI, left_index=True, right_index=True, how='outer')\n",
    "\n",
    "df_daily.dropna(inplace=True)\n",
    "\n",
    "#df_daily.to_csv('df_daily.csv')\n"
   ]
  },
  {
   "cell_type": "code",
   "execution_count": 53,
   "metadata": {},
   "outputs": [],
   "source": [
    "newsdata=pd.read_csv('SentimentFeature.csv',encoding = \"ISO-8859-1\")\n",
    "newsdata"
   ]
  },
  {
   "cell_type": "markdown",
   "metadata": {},
   "source": [
    "# Build Random Forest Algorithm and Evalate"
   ]
  },
  {
   "cell_type": "code",
   "execution_count": 88,
   "metadata": {
    "scrolled": true
   },
   "outputs": [
    {
     "name": "stdout",
     "output_type": "stream",
     "text": [
      "Model Training Score is: 0.6193353474320241\n",
      "Model Test Score is: 0.5315315315315315\n",
      "Model Difference is: 0.08780381590049258\n",
      "Model OOB Score is: 0.4561933534743202\n",
      "Model AUC Traing Score is: 0.6212958220531206\n",
      "Model AUC Test Score is: 0.5464121132323898\n",
      "AUC Difference is: 0.07488370882073081\n"
     ]
    },
    {
     "data": {
      "text/plain": [
       "1986"
      ]
     },
     "execution_count": 88,
     "metadata": {},
     "output_type": "execute_result"
    }
   ],
   "source": [
    "#Split Data\n",
    "x = df_daily[['MACD', 'ADX', 'MHIST', 'RSI', 'BB', 'FI']]\n",
    "y = df_daily['Next Week Move']\n",
    "z = df_daily['Close']\n",
    "\n",
    "x_train, x_test, y_train, y_test = train_test_split(x, y, random_state=1124, test_size=0.25)\n",
    "\n",
    "#Generate Random Forest Algorithm\n",
    "model = RandomForestClassifier(n_estimators=200,max_depth=10,max_features=None,max_leaf_nodes=None,\n",
    "                               min_samples_leaf=1, min_samples_split=2,oob_score=True,random_state=1124)\n",
    "model.fit(x_train,y_train)\n",
    "#Evaluate Model\n",
    "training_score = model.score(x_train, y_train)\n",
    "test_score = model.score(x_test, y_test)\n",
    "dif = training_score - test_score\n",
    "\n",
    "print('Model Training Score is:', training_score)\n",
    "print('Model Test Score is:', test_score)\n",
    "print('Model Difference is:', dif)\n",
    "\n",
    "pred_prob_test=model.predict_proba(x_test) \n",
    "pred_test=model.predict(x_test) \n",
    "\n",
    "pred_train=model.predict(x_train)\n",
    "pred_prob_train=model.predict_proba(x_train)\n",
    "\n",
    "print('Model OOB Score is:', model.oob_score_)\n",
    "AUC_train = roc_auc_score(y_train,model.predict(x_train))\n",
    "AUC_test = roc_auc_score(y_test,model.predict(x_test))\n",
    "dift = AUC_train - AUC_test\n",
    "print('Model AUC Traing Score is:', AUC_train)\n",
    "print('Model AUC Test Score is:', AUC_test)\n",
    "print('AUC Difference is:', dift)\n",
    "\n",
    "#confusion_matrix(y_train,pred_train)\n",
    "#confusion_matrix(y_test,pred_test)\n",
    "x_train.size\n"
   ]
  },
  {
   "cell_type": "markdown",
   "metadata": {},
   "source": [
    "# Strategy Analysis: Training Period"
   ]
  },
  {
   "cell_type": "code",
   "execution_count": 35,
   "metadata": {},
   "outputs": [
    {
     "name": "stdout",
     "output_type": "stream",
     "text": [
      "The Total Return for the Strategy is: 1.773145975800793\n",
      "The Total Return for the MACD Strategy is: -0.7983730189961847\n",
      "The Total Return for the RSI Strategy is: 0.8818129573627298\n",
      "The Total Return for the BB Strategy is: -0.11832988087660123\n",
      "The Buy and Hold Strategy Return is: -0.29710393086673703\n"
     ]
    },
    {
     "name": "stderr",
     "output_type": "stream",
     "text": [
      "C:\\Users\\kushg\\Anaconda3\\lib\\site-packages\\ipykernel_launcher.py:13: SettingWithCopyWarning: \n",
      "A value is trying to be set on a copy of a slice from a DataFrame.\n",
      "Try using .loc[row_indexer,col_indexer] = value instead\n",
      "\n",
      "See the caveats in the documentation: https://pandas.pydata.org/pandas-docs/stable/user_guide/indexing.html#returning-a-view-versus-a-copy\n",
      "  del sys.path[0]\n",
      "C:\\Users\\kushg\\Anaconda3\\lib\\site-packages\\ipykernel_launcher.py:14: SettingWithCopyWarning: \n",
      "A value is trying to be set on a copy of a slice from a DataFrame\n",
      "\n",
      "See the caveats in the documentation: https://pandas.pydata.org/pandas-docs/stable/user_guide/indexing.html#returning-a-view-versus-a-copy\n",
      "  \n",
      "C:\\Users\\kushg\\Anaconda3\\lib\\site-packages\\ipykernel_launcher.py:18: SettingWithCopyWarning: \n",
      "A value is trying to be set on a copy of a slice from a DataFrame.\n",
      "Try using .loc[row_indexer,col_indexer] = value instead\n",
      "\n",
      "See the caveats in the documentation: https://pandas.pydata.org/pandas-docs/stable/user_guide/indexing.html#returning-a-view-versus-a-copy\n",
      "C:\\Users\\kushg\\Anaconda3\\lib\\site-packages\\ipykernel_launcher.py:24: SettingWithCopyWarning: \n",
      "A value is trying to be set on a copy of a slice from a DataFrame.\n",
      "Try using .loc[row_indexer,col_indexer] = value instead\n",
      "\n",
      "See the caveats in the documentation: https://pandas.pydata.org/pandas-docs/stable/user_guide/indexing.html#returning-a-view-versus-a-copy\n",
      "C:\\Users\\kushg\\Anaconda3\\lib\\site-packages\\ipykernel_launcher.py:30: SettingWithCopyWarning: \n",
      "A value is trying to be set on a copy of a slice from a DataFrame.\n",
      "Try using .loc[row_indexer,col_indexer] = value instead\n",
      "\n",
      "See the caveats in the documentation: https://pandas.pydata.org/pandas-docs/stable/user_guide/indexing.html#returning-a-view-versus-a-copy\n",
      "C:\\Users\\kushg\\Anaconda3\\lib\\site-packages\\ipykernel_launcher.py:36: SettingWithCopyWarning: \n",
      "A value is trying to be set on a copy of a slice from a DataFrame.\n",
      "Try using .loc[row_indexer,col_indexer] = value instead\n",
      "\n",
      "See the caveats in the documentation: https://pandas.pydata.org/pandas-docs/stable/user_guide/indexing.html#returning-a-view-versus-a-copy\n",
      "C:\\Users\\kushg\\Anaconda3\\lib\\site-packages\\ipykernel_launcher.py:42: SettingWithCopyWarning: \n",
      "A value is trying to be set on a copy of a slice from a DataFrame.\n",
      "Try using .loc[row_indexer,col_indexer] = value instead\n",
      "\n",
      "See the caveats in the documentation: https://pandas.pydata.org/pandas-docs/stable/user_guide/indexing.html#returning-a-view-versus-a-copy\n"
     ]
    }
   ],
   "source": [
    "#Prepare\n",
    "T1data = df_daily[:1844]\n",
    "del T1data ['Next Week Move']\n",
    "\n",
    "inx1 = T1data[['MACD', 'ADX', 'MHIST', 'RSI', 'BB', 'FI']]\n",
    "inclose1 = T1data['Close']\n",
    "\n",
    "predictions1 =model.predict(inx1)\n",
    "T1data['Predict'] = predictions1\n",
    "\n",
    "N1data = T1data[['Close', 'Predict', 'MACD', 'RSI', 'BB']]\n",
    "R1data = N1data.iloc[::5, :]\n",
    "R1data['NextClose'] = R1data['Close'].shift(-1)\n",
    "R1data.dropna(inplace=True)\n",
    "\n",
    "#Strategy Return\n",
    "R1data['Strategy Return'] = R1data.apply(lambda x : np.log(x['NextClose']/x['Close']) if \n",
    "                                         x['Predict'] == 1 else 0, axis=1)\n",
    "Total_Return1 = R1data['Strategy Return'].sum()\n",
    "Cum_Return1 = R1data['Strategy Return'].cumsum()\n",
    "print('The Total Return for the Strategy is:', Total_Return1)\n",
    "\n",
    "#MACD\n",
    "R1data['MACD Return'] = R1data.apply(lambda x : np.log(x['NextClose']/x['Close']) if x['MACD'] == 1 else 0, axis=1)\n",
    "Total_MACD1 = R1data['MACD Return'].sum()\n",
    "Cum_MACD1 = R1data['MACD Return'].cumsum()\n",
    "print('The Total Return for the MACD Strategy is:', Total_MACD1)\n",
    "\n",
    "#RSI\n",
    "R1data['RSI Return'] = R1data.apply(lambda x : np.log(x['NextClose']/x['Close']) if x['RSI'] == 1 else 0, axis=1)\n",
    "Total_RSI1 = R1data['RSI Return'].sum()\n",
    "Cum_RSI1 = R1data['RSI Return'].cumsum()\n",
    "print('The Total Return for the RSI Strategy is:', Total_RSI1)\n",
    "\n",
    "#BB\n",
    "R1data['BB Return'] = R1data.apply(lambda x : np.log(x['NextClose']/x['Close']) if x['BB'] == 1 else 0, axis=1)\n",
    "Total_BB1 = R1data['BB Return'].sum()\n",
    "Cum_BB1 = R1data['BB Return'].cumsum()\n",
    "print('The Total Return for the BB Strategy is:', Total_BB1)\n",
    "\n",
    "#Buy and Hold Return\n",
    "R1data['Buy & Hold Returns'] = np.log(R1data['NextClose'] /R1data['Close'])\n",
    "BH_Return1 = R1data['Buy & Hold Returns'].sum()\n",
    "BH_Cum_Return1 = R1data['Buy & Hold Returns'].cumsum()\n",
    "print('The Buy and Hold Strategy Return is:', BH_Return1)\n",
    "\n"
   ]
  },
  {
   "cell_type": "markdown",
   "metadata": {},
   "source": [
    "# Plot Strategy Returns: Training Period"
   ]
  },
  {
   "cell_type": "code",
   "execution_count": 36,
   "metadata": {},
   "outputs": [
    {
     "name": "stderr",
     "output_type": "stream",
     "text": [
      "No handles with labels found to put in legend.\n"
     ]
    },
    {
     "data": {
      "image/png": "[encoded data removed]",
      "text/plain": [
       "<Figure size 1440x720 with 1 Axes>"
      ]
     },
     "metadata": {
      "needs_background": "light"
     },
     "output_type": "display_data"
    }
   ],
   "source": [
    "fig, ax = plt.subplots(figsize=(20, 10))\n",
    "ax.plot(R1data.index, Cum_Return1, linewidth=2, color='green')\n",
    "ax.plot(R1data.index, Cum_MACD1, linewidth=2, color='red')\n",
    "ax.plot(R1data.index, Cum_RSI1, linewidth=2, color='blue')\n",
    "ax.plot(R1data.index, Cum_BB1, linewidth=2, color='orange')\n",
    "ax.plot(R1data.index, BH_Cum_Return1, linewidth=2, color='olive')\n",
    "\n",
    "ax.set(xlabel='Date', ylabel='Cum Returns',\n",
    "       title='Returns Analysis: Training Period')\n",
    "ax.grid()\n",
    "\n",
    "ax.legend(fontsize=20, loc=0)\n",
    "\n",
    "plt.show()"
   ]
  },
  {
   "cell_type": "markdown",
   "metadata": {},
   "source": [
    "# Strategy Analysis: Test Period"
   ]
  },
  {
   "cell_type": "code",
   "execution_count": 37,
   "metadata": {},
   "outputs": [
    {
     "name": "stdout",
     "output_type": "stream",
     "text": [
      "The Total Return for the Strategy is: 1.773145975800793\n",
      "The Total Return for the MACD Strategy is: -0.7983730189961847\n",
      "The Total Return for the RSI Strategy is: 0.8818129573627298\n",
      "The Total Return for the BB Strategy is: -0.11832988087660123\n",
      "The Buy and Hold Strategy Return is: -0.29710393086673703\n"
     ]
    },
    {
     "name": "stderr",
     "output_type": "stream",
     "text": [
      "C:\\Users\\kushg\\Anaconda3\\lib\\site-packages\\ipykernel_launcher.py:13: SettingWithCopyWarning: \n",
      "A value is trying to be set on a copy of a slice from a DataFrame.\n",
      "Try using .loc[row_indexer,col_indexer] = value instead\n",
      "\n",
      "See the caveats in the documentation: https://pandas.pydata.org/pandas-docs/stable/user_guide/indexing.html#returning-a-view-versus-a-copy\n",
      "  del sys.path[0]\n",
      "C:\\Users\\kushg\\Anaconda3\\lib\\site-packages\\ipykernel_launcher.py:14: SettingWithCopyWarning: \n",
      "A value is trying to be set on a copy of a slice from a DataFrame\n",
      "\n",
      "See the caveats in the documentation: https://pandas.pydata.org/pandas-docs/stable/user_guide/indexing.html#returning-a-view-versus-a-copy\n",
      "  \n",
      "C:\\Users\\kushg\\Anaconda3\\lib\\site-packages\\ipykernel_launcher.py:17: SettingWithCopyWarning: \n",
      "A value is trying to be set on a copy of a slice from a DataFrame.\n",
      "Try using .loc[row_indexer,col_indexer] = value instead\n",
      "\n",
      "See the caveats in the documentation: https://pandas.pydata.org/pandas-docs/stable/user_guide/indexing.html#returning-a-view-versus-a-copy\n",
      "C:\\Users\\kushg\\Anaconda3\\lib\\site-packages\\ipykernel_launcher.py:23: SettingWithCopyWarning: \n",
      "A value is trying to be set on a copy of a slice from a DataFrame.\n",
      "Try using .loc[row_indexer,col_indexer] = value instead\n",
      "\n",
      "See the caveats in the documentation: https://pandas.pydata.org/pandas-docs/stable/user_guide/indexing.html#returning-a-view-versus-a-copy\n",
      "C:\\Users\\kushg\\Anaconda3\\lib\\site-packages\\ipykernel_launcher.py:29: SettingWithCopyWarning: \n",
      "A value is trying to be set on a copy of a slice from a DataFrame.\n",
      "Try using .loc[row_indexer,col_indexer] = value instead\n",
      "\n",
      "See the caveats in the documentation: https://pandas.pydata.org/pandas-docs/stable/user_guide/indexing.html#returning-a-view-versus-a-copy\n",
      "C:\\Users\\kushg\\Anaconda3\\lib\\site-packages\\ipykernel_launcher.py:35: SettingWithCopyWarning: \n",
      "A value is trying to be set on a copy of a slice from a DataFrame.\n",
      "Try using .loc[row_indexer,col_indexer] = value instead\n",
      "\n",
      "See the caveats in the documentation: https://pandas.pydata.org/pandas-docs/stable/user_guide/indexing.html#returning-a-view-versus-a-copy\n",
      "C:\\Users\\kushg\\Anaconda3\\lib\\site-packages\\ipykernel_launcher.py:42: SettingWithCopyWarning: \n",
      "A value is trying to be set on a copy of a slice from a DataFrame.\n",
      "Try using .loc[row_indexer,col_indexer] = value instead\n",
      "\n",
      "See the caveats in the documentation: https://pandas.pydata.org/pandas-docs/stable/user_guide/indexing.html#returning-a-view-versus-a-copy\n"
     ]
    }
   ],
   "source": [
    "#Prepare\n",
    "Tdata = df_daily[-615:]\n",
    "del Tdata ['Next Week Move']\n",
    "\n",
    "inx = Tdata[['MACD', 'ADX', 'MHIST', 'RSI', 'BB', 'FI']]\n",
    "inclose = Tdata['Close']\n",
    "\n",
    "predictions =model.predict(inx)\n",
    "Tdata['Predict'] = predictions\n",
    "\n",
    "Ndata = Tdata[['Close', 'Predict', 'MACD', 'RSI', 'BB']]\n",
    "Rdata = Ndata.iloc[::5, :]\n",
    "Rdata['NextClose'] = Rdata['Close'].shift(-1)\n",
    "Rdata.dropna(inplace=True)\n",
    "\n",
    "#Strategy Return\n",
    "Rdata['Strategy Return'] = Rdata.apply(lambda x : np.log(x['NextClose']/x['Close']) if x['Predict'] == 1 else 0, axis=1)\n",
    "Total_Return = Rdata['Strategy Return'].sum()\n",
    "Cum_Return = Rdata['Strategy Return'].cumsum()\n",
    "print('The Total Return for the Strategy is:', Total_Return)\n",
    "\n",
    "#MACD\n",
    "Rdata['MACD Return'] = Rdata.apply(lambda x : np.log(x['NextClose']/x['Close']) if x['MACD'] == 1 else 0, axis=1)\n",
    "Total_MACD = Rdata['MACD Return'].sum()\n",
    "Cum_MACD = Rdata['MACD Return'].cumsum()\n",
    "print('The Total Return for the MACD Strategy is:', Total_MACD)\n",
    "\n",
    "#RSI\n",
    "Rdata['RSI Return'] = Rdata.apply(lambda x : np.log(x['NextClose']/x['Close']) if x['RSI'] == 1 else 0, axis=1)\n",
    "Total_RSI = Rdata['RSI Return'].sum()\n",
    "Cum_RSI = Rdata['RSI Return'].cumsum()\n",
    "print('The Total Return for the RSI Strategy is:', Total_RSI)\n",
    "\n",
    "#BB\n",
    "Rdata['BB Return'] = Rdata.apply(lambda x : np.log(x['NextClose']/x['Close']) if x['BB'] == 1 else 0, axis=1)\n",
    "Total_BB = Rdata['BB Return'].sum()\n",
    "Cum_BB = Rdata['BB Return'].cumsum()\n",
    "print('The Total Return for the BB Strategy is:', Total_BB)\n",
    "\n",
    "\n",
    "#Buy and Hold Return\n",
    "Rdata['Buy & Hold Returns'] = np.log(Rdata['NextClose'] /Rdata['Close'])\n",
    "BH_Return = Rdata['Buy & Hold Returns'].sum()\n",
    "BH_Cum_Return = Rdata['Buy & Hold Returns'].cumsum()\n",
    "print('The Buy and Hold Strategy Return is:', BH_Return)\n"
   ]
  },
  {
   "cell_type": "markdown",
   "metadata": {},
   "source": [
    "# Plot Strategy Returns: Test Period"
   ]
  },
  {
   "cell_type": "code",
   "execution_count": 67,
   "metadata": {
    "scrolled": true
   },
   "outputs": [
    {
     "data": {
      "image/png": "[encoded data removed]",
      "text/plain": [
       "<Figure size 720x360 with 1 Axes>"
      ]
     },
     "metadata": {
      "needs_background": "light"
     },
     "output_type": "display_data"
    }
   ],
   "source": [
    "fig, ax = plt.subplots(figsize=(10, 5))\n",
    "ax.plot(Rdata.index, Cum_Return, linewidth=2, color='green',label=\"ML STRATEGY RETURN\")\n",
    "ax.plot(Rdata.index, Cum_MACD, linewidth=2, color='red',label=\"MACD Return\")\n",
    "ax.plot(Rdata.index, Cum_RSI, linewidth=2, color='blue',label=\"RSI Return\")\n",
    "ax.plot(Rdata.index, Cum_BB, linewidth=2, color='orange',label=\"BB Return\")\n",
    "ax.plot(Rdata.index, BH_Cum_Return, linewidth=2, color='olive',label=\"BH Return\")\n",
    "\n",
    "ax.set(xlabel='Date', ylabel='Cum Returns',\n",
    "       title='Returns Analysis: Test Period')\n",
    "ax.grid()\n",
    "handles, labels = ax.get_legend_handles_labels()\n",
    "ax.legend(handles, labels,fontsize=8, loc=0)\n",
    "\n",
    "plt.show()"
   ]
  },
  {
   "cell_type": "code",
   "execution_count": 39,
   "metadata": {},
   "outputs": [],
   "source": [
    "Rtdata = Rdata[['Strategy Return', 'MACD Return', 'RSI Return', 'BB Return', 'Buy & Hold Returns']]\n",
    "Rtdata.to_csv('ABG_Rt_ca.csv')"
   ]
  },
  {
   "cell_type": "code",
   "execution_count": 40,
   "metadata": {},
   "outputs": [],
   "source": [
    "dfa = pd.read_csv(\"ABG_Rt_ca.csv\", index_col=0, parse_dates=True)"
   ]
  },
  {
   "cell_type": "code",
   "execution_count": 41,
   "metadata": {},
   "outputs": [
    {
     "data": {
      "text/html": [
       "<div>\n",
       "<style scoped>\n",
       "    .dataframe tbody tr th:only-of-type {\n",
       "        vertical-align: middle;\n",
       "    }\n",
       "\n",
       "    .dataframe tbody tr th {\n",
       "        vertical-align: top;\n",
       "    }\n",
       "\n",
       "    .dataframe thead th {\n",
       "        text-align: right;\n",
       "    }\n",
       "</style>\n",
       "<table border=\"1\" class=\"dataframe\">\n",
       "  <thead>\n",
       "    <tr style=\"text-align: right;\">\n",
       "      <th></th>\n",
       "      <th>Strategy Return</th>\n",
       "      <th>MACD Return</th>\n",
       "      <th>RSI Return</th>\n",
       "      <th>BB Return</th>\n",
       "      <th>Buy &amp; Hold Returns</th>\n",
       "    </tr>\n",
       "    <tr>\n",
       "      <th>Date</th>\n",
       "      <th></th>\n",
       "      <th></th>\n",
       "      <th></th>\n",
       "      <th></th>\n",
       "      <th></th>\n",
       "    </tr>\n",
       "  </thead>\n",
       "  <tbody>\n",
       "    <tr>\n",
       "      <th>2018-01-03</th>\n",
       "      <td>0.000000</td>\n",
       "      <td>0.039548</td>\n",
       "      <td>0.0</td>\n",
       "      <td>0.0</td>\n",
       "      <td>0.039548</td>\n",
       "    </tr>\n",
       "    <tr>\n",
       "      <th>2018-01-11</th>\n",
       "      <td>0.000000</td>\n",
       "      <td>0.015163</td>\n",
       "      <td>0.0</td>\n",
       "      <td>0.0</td>\n",
       "      <td>0.015163</td>\n",
       "    </tr>\n",
       "    <tr>\n",
       "      <th>2018-02-08</th>\n",
       "      <td>0.000000</td>\n",
       "      <td>-0.117275</td>\n",
       "      <td>0.0</td>\n",
       "      <td>0.0</td>\n",
       "      <td>-0.117275</td>\n",
       "    </tr>\n",
       "    <tr>\n",
       "      <th>2018-03-07</th>\n",
       "      <td>0.049485</td>\n",
       "      <td>0.000000</td>\n",
       "      <td>0.0</td>\n",
       "      <td>0.0</td>\n",
       "      <td>0.049485</td>\n",
       "    </tr>\n",
       "    <tr>\n",
       "      <th>2018-03-14</th>\n",
       "      <td>0.000000</td>\n",
       "      <td>-0.031410</td>\n",
       "      <td>0.0</td>\n",
       "      <td>0.0</td>\n",
       "      <td>-0.031410</td>\n",
       "    </tr>\n",
       "  </tbody>\n",
       "</table>\n",
       "</div>"
      ],
      "text/plain": [
       "            Strategy Return  MACD Return  RSI Return  BB Return  \\\n",
       "Date                                                              \n",
       "2018-01-03         0.000000     0.039548         0.0        0.0   \n",
       "2018-01-11         0.000000     0.015163         0.0        0.0   \n",
       "2018-02-08         0.000000    -0.117275         0.0        0.0   \n",
       "2018-03-07         0.049485     0.000000         0.0        0.0   \n",
       "2018-03-14         0.000000    -0.031410         0.0        0.0   \n",
       "\n",
       "            Buy & Hold Returns  \n",
       "Date                            \n",
       "2018-01-03            0.039548  \n",
       "2018-01-11            0.015163  \n",
       "2018-02-08           -0.117275  \n",
       "2018-03-07            0.049485  \n",
       "2018-03-14           -0.031410  "
      ]
     },
     "execution_count": 41,
     "metadata": {},
     "output_type": "execute_result"
    }
   ],
   "source": [
    "dfa.head()"
   ]
  },
  {
   "cell_type": "code",
   "execution_count": null,
   "metadata": {},
   "outputs": [],
   "source": []
  }
 ],
 "metadata": {
  "kernelspec": {
   "display_name": "Python 3",
   "language": "python",
   "name": "python3"
  },
  "language_info": {
   "codemirror_mode": {
    "name": "ipython",
    "version": 3
   },
   "file_extension": ".py",
   "mimetype": "text/x-python",
   "name": "python",
   "nbconvert_exporter": "python",
   "pygments_lexer": "ipython3",
   "version": "3.7.6"
  }
 },
 "nbformat": 4,
 "nbformat_minor": 2
}
